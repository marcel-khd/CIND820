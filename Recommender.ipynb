{
 "cells": [
  {
   "cell_type": "markdown",
   "metadata": {},
   "source": [
    "# 1. Load Data"
   ]
  },
  {
   "cell_type": "code",
   "execution_count": 1,
   "metadata": {},
   "outputs": [],
   "source": [
    "import numpy as np\n",
    "import pandas as pd"
   ]
  },
  {
   "cell_type": "code",
   "execution_count": 3,
   "metadata": {},
   "outputs": [
    {
     "data": {
      "text/html": [
       "<div>\n",
       "<style scoped>\n",
       "    .dataframe tbody tr th:only-of-type {\n",
       "        vertical-align: middle;\n",
       "    }\n",
       "\n",
       "    .dataframe tbody tr th {\n",
       "        vertical-align: top;\n",
       "    }\n",
       "\n",
       "    .dataframe thead th {\n",
       "        text-align: right;\n",
       "    }\n",
       "</style>\n",
       "<table border=\"1\" class=\"dataframe\">\n",
       "  <thead>\n",
       "    <tr style=\"text-align: right;\">\n",
       "      <th></th>\n",
       "      <th>business_id</th>\n",
       "      <th>name</th>\n",
       "      <th>address</th>\n",
       "      <th>city</th>\n",
       "      <th>state</th>\n",
       "      <th>postal_code</th>\n",
       "      <th>latitude</th>\n",
       "      <th>longitude</th>\n",
       "      <th>stars</th>\n",
       "      <th>review_count</th>\n",
       "      <th>is_open</th>\n",
       "      <th>attributes</th>\n",
       "      <th>categories</th>\n",
       "      <th>hours</th>\n",
       "    </tr>\n",
       "  </thead>\n",
       "  <tbody>\n",
       "    <tr>\n",
       "      <th>0</th>\n",
       "      <td>Pns2l4eNsfO8kk83dixA6A</td>\n",
       "      <td>Abby Rappoport, LAC, CMQ</td>\n",
       "      <td>1616 Chapala St, Ste 2</td>\n",
       "      <td>Santa Barbara</td>\n",
       "      <td>CA</td>\n",
       "      <td>93101</td>\n",
       "      <td>34.426679</td>\n",
       "      <td>-119.711197</td>\n",
       "      <td>5.0</td>\n",
       "      <td>7</td>\n",
       "      <td>0</td>\n",
       "      <td>{'ByAppointmentOnly': 'True'}</td>\n",
       "      <td>Doctors, Traditional Chinese Medicine, Naturop...</td>\n",
       "      <td>None</td>\n",
       "    </tr>\n",
       "    <tr>\n",
       "      <th>1</th>\n",
       "      <td>mpf3x-BjTdTEA3yCZrAYPw</td>\n",
       "      <td>The UPS Store</td>\n",
       "      <td>87 Grasso Plaza Shopping Center</td>\n",
       "      <td>Affton</td>\n",
       "      <td>MO</td>\n",
       "      <td>63123</td>\n",
       "      <td>38.551126</td>\n",
       "      <td>-90.335695</td>\n",
       "      <td>3.0</td>\n",
       "      <td>15</td>\n",
       "      <td>1</td>\n",
       "      <td>{'BusinessAcceptsCreditCards': 'True'}</td>\n",
       "      <td>Shipping Centers, Local Services, Notaries, Ma...</td>\n",
       "      <td>{'Monday': '0:0-0:0', 'Tuesday': '8:0-18:30', ...</td>\n",
       "    </tr>\n",
       "    <tr>\n",
       "      <th>2</th>\n",
       "      <td>tUFrWirKiKi_TAnsVWINQQ</td>\n",
       "      <td>Target</td>\n",
       "      <td>5255 E Broadway Blvd</td>\n",
       "      <td>Tucson</td>\n",
       "      <td>AZ</td>\n",
       "      <td>85711</td>\n",
       "      <td>32.223236</td>\n",
       "      <td>-110.880452</td>\n",
       "      <td>3.5</td>\n",
       "      <td>22</td>\n",
       "      <td>0</td>\n",
       "      <td>{'BikeParking': 'True', 'BusinessAcceptsCredit...</td>\n",
       "      <td>Department Stores, Shopping, Fashion, Home &amp; G...</td>\n",
       "      <td>{'Monday': '8:0-22:0', 'Tuesday': '8:0-22:0', ...</td>\n",
       "    </tr>\n",
       "    <tr>\n",
       "      <th>3</th>\n",
       "      <td>MTSW4McQd7CbVtyjqoe9mw</td>\n",
       "      <td>St Honore Pastries</td>\n",
       "      <td>935 Race St</td>\n",
       "      <td>Philadelphia</td>\n",
       "      <td>PA</td>\n",
       "      <td>19107</td>\n",
       "      <td>39.955505</td>\n",
       "      <td>-75.155564</td>\n",
       "      <td>4.0</td>\n",
       "      <td>80</td>\n",
       "      <td>1</td>\n",
       "      <td>{'RestaurantsDelivery': 'False', 'OutdoorSeati...</td>\n",
       "      <td>Restaurants, Food, Bubble Tea, Coffee &amp; Tea, B...</td>\n",
       "      <td>{'Monday': '7:0-20:0', 'Tuesday': '7:0-20:0', ...</td>\n",
       "    </tr>\n",
       "    <tr>\n",
       "      <th>4</th>\n",
       "      <td>mWMc6_wTdE0EUBKIGXDVfA</td>\n",
       "      <td>Perkiomen Valley Brewery</td>\n",
       "      <td>101 Walnut St</td>\n",
       "      <td>Green Lane</td>\n",
       "      <td>PA</td>\n",
       "      <td>18054</td>\n",
       "      <td>40.338183</td>\n",
       "      <td>-75.471659</td>\n",
       "      <td>4.5</td>\n",
       "      <td>13</td>\n",
       "      <td>1</td>\n",
       "      <td>{'BusinessAcceptsCreditCards': 'True', 'Wheelc...</td>\n",
       "      <td>Brewpubs, Breweries, Food</td>\n",
       "      <td>{'Wednesday': '14:0-22:0', 'Thursday': '16:0-2...</td>\n",
       "    </tr>\n",
       "  </tbody>\n",
       "</table>\n",
       "</div>"
      ],
      "text/plain": [
       "              business_id                      name  \\\n",
       "0  Pns2l4eNsfO8kk83dixA6A  Abby Rappoport, LAC, CMQ   \n",
       "1  mpf3x-BjTdTEA3yCZrAYPw             The UPS Store   \n",
       "2  tUFrWirKiKi_TAnsVWINQQ                    Target   \n",
       "3  MTSW4McQd7CbVtyjqoe9mw        St Honore Pastries   \n",
       "4  mWMc6_wTdE0EUBKIGXDVfA  Perkiomen Valley Brewery   \n",
       "\n",
       "                           address           city state postal_code  \\\n",
       "0           1616 Chapala St, Ste 2  Santa Barbara    CA       93101   \n",
       "1  87 Grasso Plaza Shopping Center         Affton    MO       63123   \n",
       "2             5255 E Broadway Blvd         Tucson    AZ       85711   \n",
       "3                      935 Race St   Philadelphia    PA       19107   \n",
       "4                    101 Walnut St     Green Lane    PA       18054   \n",
       "\n",
       "    latitude   longitude  stars  review_count  is_open  \\\n",
       "0  34.426679 -119.711197    5.0             7        0   \n",
       "1  38.551126  -90.335695    3.0            15        1   \n",
       "2  32.223236 -110.880452    3.5            22        0   \n",
       "3  39.955505  -75.155564    4.0            80        1   \n",
       "4  40.338183  -75.471659    4.5            13        1   \n",
       "\n",
       "                                          attributes  \\\n",
       "0                      {'ByAppointmentOnly': 'True'}   \n",
       "1             {'BusinessAcceptsCreditCards': 'True'}   \n",
       "2  {'BikeParking': 'True', 'BusinessAcceptsCredit...   \n",
       "3  {'RestaurantsDelivery': 'False', 'OutdoorSeati...   \n",
       "4  {'BusinessAcceptsCreditCards': 'True', 'Wheelc...   \n",
       "\n",
       "                                          categories  \\\n",
       "0  Doctors, Traditional Chinese Medicine, Naturop...   \n",
       "1  Shipping Centers, Local Services, Notaries, Ma...   \n",
       "2  Department Stores, Shopping, Fashion, Home & G...   \n",
       "3  Restaurants, Food, Bubble Tea, Coffee & Tea, B...   \n",
       "4                          Brewpubs, Breweries, Food   \n",
       "\n",
       "                                               hours  \n",
       "0                                               None  \n",
       "1  {'Monday': '0:0-0:0', 'Tuesday': '8:0-18:30', ...  \n",
       "2  {'Monday': '8:0-22:0', 'Tuesday': '8:0-22:0', ...  \n",
       "3  {'Monday': '7:0-20:0', 'Tuesday': '7:0-20:0', ...  \n",
       "4  {'Wednesday': '14:0-22:0', 'Thursday': '16:0-2...  "
      ]
     },
     "execution_count": 3,
     "metadata": {},
     "output_type": "execute_result"
    }
   ],
   "source": [
    "#Read business object\n",
    "business_obj_loc = 'yelp_dataset/yelp_academic_dataset_business.json'\n",
    "business_df = pd.read_json(business_obj_loc, lines=True)\n",
    "columns = business_df.head()\n",
    "columns "
   ]
  },
  {
   "cell_type": "code",
   "execution_count": 4,
   "metadata": {},
   "outputs": [],
   "source": [
    "#Replace null values in business df\n",
    "business_df.fillna('NA', inplace=True)"
   ]
  },
  {
   "cell_type": "code",
   "execution_count": 5,
   "metadata": {},
   "outputs": [
    {
     "data": {
      "text/html": [
       "<div>\n",
       "<style scoped>\n",
       "    .dataframe tbody tr th:only-of-type {\n",
       "        vertical-align: middle;\n",
       "    }\n",
       "\n",
       "    .dataframe tbody tr th {\n",
       "        vertical-align: top;\n",
       "    }\n",
       "\n",
       "    .dataframe thead th {\n",
       "        text-align: right;\n",
       "    }\n",
       "</style>\n",
       "<table border=\"1\" class=\"dataframe\">\n",
       "  <thead>\n",
       "    <tr style=\"text-align: right;\">\n",
       "      <th></th>\n",
       "      <th>business_id</th>\n",
       "    </tr>\n",
       "    <tr>\n",
       "      <th>is_open</th>\n",
       "      <th></th>\n",
       "    </tr>\n",
       "  </thead>\n",
       "  <tbody>\n",
       "    <tr>\n",
       "      <th>0</th>\n",
       "      <td>1573</td>\n",
       "    </tr>\n",
       "    <tr>\n",
       "      <th>1</th>\n",
       "      <td>5398</td>\n",
       "    </tr>\n",
       "  </tbody>\n",
       "</table>\n",
       "</div>"
      ],
      "text/plain": [
       "         business_id\n",
       "is_open             \n",
       "0               1573\n",
       "1               5398"
      ]
     },
     "execution_count": 5,
     "metadata": {},
     "output_type": "execute_result"
    }
   ],
   "source": [
    "#Select businesses in Nashville only\n",
    "df_City = business_df[business_df['city']=='Nashville']\n",
    "#Show number of open and closed businesses\n",
    "df_City[['is_open','business_id']].groupby(['is_open']).count()"
   ]
  },
  {
   "cell_type": "code",
   "execution_count": 6,
   "metadata": {},
   "outputs": [
    {
     "name": "stdout",
     "output_type": "stream",
     "text": [
      "5398\n"
     ]
    }
   ],
   "source": [
    "#Select open businesses only\n",
    "df_City = df_City[df_City['is_open']==1]\n",
    "count_row = df_City.shape[0]\n",
    "print(str(count_row))"
   ]
  },
  {
   "cell_type": "code",
   "execution_count": 7,
   "metadata": {},
   "outputs": [
    {
     "name": "stdout",
     "output_type": "stream",
     "text": [
      "1681\n"
     ]
    }
   ],
   "source": [
    "#Find categories that contain the keyword 'Restaurants'\n",
    "df_City_Restaurants = df_City[df_City['categories'].str.contains('Restaurants')]\n",
    "count_row = df_City_Restaurants.shape[0]\n",
    "print(str(count_row))"
   ]
  },
  {
   "cell_type": "code",
   "execution_count": 8,
   "metadata": {},
   "outputs": [],
   "source": [
    "#Show number restaurants by category in the selected city\n",
    "df_categories = df_City_Restaurants[['categories','business_id']].groupby(['categories']).count()\n",
    "#df_categories.sort_values(by=['business_id'],ascending=False, inplace=True)\n",
    "#df_categories[df_categories['business_id']>10]"
   ]
  },
  {
   "cell_type": "code",
   "execution_count": 9,
   "metadata": {},
   "outputs": [],
   "source": [
    "#Save selected city restaurants categories to csv file\n",
    "df_categories.to_csv('categories_selected_city_restaurants.csv', sep=',')"
   ]
  },
  {
   "cell_type": "code",
   "execution_count": 9,
   "metadata": {},
   "outputs": [
    {
     "name": "stdout",
     "output_type": "stream",
     "text": [
      "There are  266634 reviews for restaurants in selected city\n"
     ]
    }
   ],
   "source": [
    "#Read reviews object and display it's columns\n",
    "\n",
    "b_pandas = []\n",
    "r_dtypes = {\"stars\": np.float16, \n",
    "            \"useful\": np.int32, \n",
    "            \"funny\": np.int32,\n",
    "            \"cool\": np.int32,\n",
    "           }\n",
    "\n",
    "review_obj_loc = 'yelp_dataset/yelp_academic_dataset_review.json'\n",
    "reader = pd.read_json(review_obj_loc, orient=\"records\", lines=True, dtype=r_dtypes, chunksize=1000)\n",
    "\n",
    "for chunk in reader:\n",
    "    reduced_chunk = chunk[chunk['business_id'].isin(df_City_Restaurants['business_id'])]\n",
    "    reduced_chunk = reduced_chunk.replace(',',';')\n",
    "    b_pandas.append(reduced_chunk)\n",
    "    \n",
    "reviews_City_Restaurants = pd.concat(b_pandas, ignore_index=True)\n",
    "\n",
    "#Write File to csv\n",
    "reviews_City_Restaurants.to_csv('reviews_selected_city_restaurants.csv', sep=',')\n",
    "\n",
    "count_row = reviews_City_Restaurants.shape[0]\n",
    "print('There are  ' + str(count_row) + ' reviews for restaurants in selected city')"
   ]
  },
  {
   "cell_type": "markdown",
   "metadata": {},
   "source": [
    "# 2. Text Pre-Processing"
   ]
  },
  {
   "cell_type": "code",
   "execution_count": 78,
   "metadata": {},
   "outputs": [],
   "source": [
    "import string\n",
    "import re\n",
    "import nltk\n",
    "from nltk.tokenize import WordPunctTokenizer\n",
    "from nltk.corpus import stopwords\n",
    "from nltk.stem import SnowballStemmer\n",
    "from sklearn.feature_extraction.text import CountVectorizer\n"
   ]
  },
  {
   "cell_type": "code",
   "execution_count": 16,
   "metadata": {},
   "outputs": [
    {
     "name": "stderr",
     "output_type": "stream",
     "text": [
      "[nltk_data] Downloading package stopwords to\n",
      "[nltk_data]     C:\\Users\\Marcel\\AppData\\Roaming\\nltk_data...\n",
      "[nltk_data]   Package stopwords is already up-to-date!\n"
     ]
    },
    {
     "data": {
      "text/plain": [
       "True"
      ]
     },
     "execution_count": 16,
     "metadata": {},
     "output_type": "execute_result"
    }
   ],
   "source": [
    "nltk.download('stopwords')"
   ]
  },
  {
   "cell_type": "code",
   "execution_count": 11,
   "metadata": {},
   "outputs": [],
   "source": [
    "def clean_text(string_input):\n",
    "    ## Remove puncuation\n",
    "    string_input = string_input.translate(string.punctuation)\n",
    "    \n",
    "    ## Convert words to lower case and split them\n",
    "    string_input = string_input.lower().split()\n",
    "    \n",
    "    ## Remove stop words\n",
    "    stops = set(stopwords.words(\"english\"))\n",
    "    string_input = [w for w in string_input if not w in stops and len(w) >= 3]\n",
    "    \n",
    "    string_input = \" \".join(string_input)\n",
    "    \n",
    "    # Clean the text\n",
    "    string_input = re.sub(r\"[^A-Za-z0-9^,!.\\/'+-=]\", \" \", string_input)\n",
    "    string_input = re.sub(r\"what's\", \"what is \", string_input)\n",
    "    string_input = re.sub(r\"\\'s\", \" \", string_input)\n",
    "    string_input = re.sub(r\"\\'ve\", \" have \", string_input)\n",
    "    string_input = re.sub(r\"n't\", \" not \", string_input)\n",
    "    string_input = re.sub(r\"i'm\", \"i am \", string_input)\n",
    "    string_input = re.sub(r\"\\'re\", \" are \", string_input)\n",
    "    string_input = re.sub(r\"\\'d\", \" would \", string_input)\n",
    "    string_input = re.sub(r\"\\'ll\", \" will \", string_input)\n",
    "    string_input = re.sub(r\",\", \" \", string_input)\n",
    "    string_input = re.sub(r\"\\.\", \" \", string_input)\n",
    "    string_input = re.sub(r\"!\", \" ! \", string_input)\n",
    "    string_input = re.sub(r\"\\/\", \" \", string_input)\n",
    "    string_input = re.sub(r\"\\^\", \" ^ \", string_input)\n",
    "    string_input = re.sub(r\"\\+\", \" + \", string_input)\n",
    "    string_input = re.sub(r\"\\-\", \" - \", string_input)\n",
    "    string_input = re.sub(r\"\\=\", \" = \", string_input)\n",
    "    string_input = re.sub(r\"'\", \" \", string_input)\n",
    "    string_input = re.sub(r\":\", \" : \", string_input)\n",
    "    string_input = re.sub(r\"e - mail\", \"email\", string_input) \n",
    "    return string_input"
   ]
  },
  {
   "cell_type": "code",
   "execution_count": 12,
   "metadata": {},
   "outputs": [],
   "source": [
    "#Clean up comments\n",
    "reviews_City_Restaurants['text'] = reviews_City_Restaurants['text'].apply(clean_text)"
   ]
  },
  {
   "cell_type": "code",
   "execution_count": 13,
   "metadata": {},
   "outputs": [],
   "source": [
    "#Save Phiiladelphia restaurants reviews to csv file\n",
    "reviews_City_Restaurants.to_csv('reviews_selected_city_restaurants_Clean.csv', sep=',')"
   ]
  },
  {
   "cell_type": "code",
   "execution_count": 37,
   "metadata": {},
   "outputs": [],
   "source": [
    "#Read Phiiladelphia restaurants reviews from csv file\n",
    "reviews_City_Restaurants = pd.read_csv('reviews_selected_city_restaurants_Clean.csv')"
   ]
  },
  {
   "cell_type": "code",
   "execution_count": 38,
   "metadata": {},
   "outputs": [],
   "source": [
    "#Find number of characters in a review\n",
    "def count_text(string_input):\n",
    "    string_input = str(string_input)\n",
    "    nbr_chars = len(string_input)\n",
    "    return nbr_chars\n",
    "\n",
    "\n",
    "reviews_City_Restaurants['nbr_characters'] = reviews_City_Restaurants['text'].apply(count_text)"
   ]
  },
  {
   "cell_type": "code",
   "execution_count": 52,
   "metadata": {},
   "outputs": [
    {
     "name": "stderr",
     "output_type": "stream",
     "text": [
      "C:\\Users\\Marcel\\Anaconda3\\lib\\site-packages\\ipykernel_launcher.py:8: UserWarning: Boolean Series key will be reindexed to match DataFrame index.\n",
      "  \n"
     ]
    }
   ],
   "source": [
    "#Select a subset of reviews for better quality\n",
    "#Select reviews within the last 5 years\n",
    "reviews_City_Restaurants['year'] = reviews_City_Restaurants['date'].str[:4]\n",
    "reviews_City_Restaurants_reduced = reviews_City_Restaurants[reviews_City_Restaurants['year'].isin(['2018','2019','2020','2021','2022'])]\n",
    "\n",
    "#Select reviews with at least 50 characters\n",
    "reviews_City_Restaurants_reduced = reviews_City_Restaurants_reduced[reviews_City_Restaurants['nbr_characters']>49]"
   ]
  },
  {
   "cell_type": "code",
   "execution_count": 53,
   "metadata": {},
   "outputs": [
    {
     "data": {
      "text/plain": [
       "(138656, 12)"
      ]
     },
     "execution_count": 53,
     "metadata": {},
     "output_type": "execute_result"
    }
   ],
   "source": [
    "reviews_City_Restaurants_reduced.shape"
   ]
  },
  {
   "cell_type": "code",
   "execution_count": 74,
   "metadata": {},
   "outputs": [
    {
     "data": {
      "text/plain": [
       "(1660, 2)"
      ]
     },
     "execution_count": 74,
     "metadata": {},
     "output_type": "execute_result"
    }
   ],
   "source": [
    "#Group the reviews by business\n",
    "reviews_grouped_by_business = reviews_City_Restaurants_reduced.drop(['row_nbr','review_id','user_id','stars','useful','funny','cool','date','year','nbr_characters'], axis=1)\n",
    "reviews_grouped_by_business.reset_index()\n",
    "\n",
    "reviews_grouped_by_business['reviews'] = reviews_grouped_by_business.groupby(['business_id'])['text'].transform(lambda x : ' | '.join(x))\n",
    "\n",
    "# drop duplicate data\n",
    "reviews_grouped_by_business = reviews_grouped_by_business.drop(['text'], axis=1)\n",
    "reviews_grouped_by_business = reviews_grouped_by_business.drop_duplicates()\n",
    "\n",
    "reviews_grouped_by_business.shape"
   ]
  },
  {
   "cell_type": "code",
   "execution_count": 77,
   "metadata": {},
   "outputs": [
    {
     "data": {
      "text/html": [
       "<div>\n",
       "<style scoped>\n",
       "    .dataframe tbody tr th:only-of-type {\n",
       "        vertical-align: middle;\n",
       "    }\n",
       "\n",
       "    .dataframe tbody tr th {\n",
       "        vertical-align: top;\n",
       "    }\n",
       "\n",
       "    .dataframe thead th {\n",
       "        text-align: right;\n",
       "    }\n",
       "</style>\n",
       "<table border=\"1\" class=\"dataframe\">\n",
       "  <thead>\n",
       "    <tr style=\"text-align: right;\">\n",
       "      <th></th>\n",
       "      <th>business_id</th>\n",
       "      <th>reviews</th>\n",
       "    </tr>\n",
       "  </thead>\n",
       "  <tbody>\n",
       "    <tr>\n",
       "      <th>1</th>\n",
       "      <td>Zx7n8mdt8OzLRXVzolXNhQ</td>\n",
       "      <td>amazing biscuits  fill blank   great cocktails...</td>\n",
       "    </tr>\n",
       "    <tr>\n",
       "      <th>9</th>\n",
       "      <td>pSmOH4a3HNNpYM82J5ycLA</td>\n",
       "      <td>pretty good pancake place  little disorganized...</td>\n",
       "    </tr>\n",
       "    <tr>\n",
       "      <th>13</th>\n",
       "      <td>wzE61ThXOdrSegvwSOzf5w</td>\n",
       "      <td>totally worth wait despite heat !  vegan grits...</td>\n",
       "    </tr>\n",
       "    <tr>\n",
       "      <th>29</th>\n",
       "      <td>wnjFEC-w0qWnyDnO8k1RpA</td>\n",
       "      <td>love !  !  new favorite local spot  we have  g...</td>\n",
       "    </tr>\n",
       "    <tr>\n",
       "      <th>33</th>\n",
       "      <td>yE1raqkLX7OZsjmX3qKIKg</td>\n",
       "      <td>arrived lunch 12p friday busy all  took foreve...</td>\n",
       "    </tr>\n",
       "  </tbody>\n",
       "</table>\n",
       "</div>"
      ],
      "text/plain": [
       "               business_id                                            reviews\n",
       "1   Zx7n8mdt8OzLRXVzolXNhQ  amazing biscuits  fill blank   great cocktails...\n",
       "9   pSmOH4a3HNNpYM82J5ycLA  pretty good pancake place  little disorganized...\n",
       "13  wzE61ThXOdrSegvwSOzf5w  totally worth wait despite heat !  vegan grits...\n",
       "29  wnjFEC-w0qWnyDnO8k1RpA  love !  !  new favorite local spot  we have  g...\n",
       "33  yE1raqkLX7OZsjmX3qKIKg  arrived lunch 12p friday busy all  took foreve..."
      ]
     },
     "execution_count": 77,
     "metadata": {},
     "output_type": "execute_result"
    }
   ],
   "source": [
    "reviews_grouped_by_business.head()"
   ]
  },
  {
   "cell_type": "code",
   "execution_count": 79,
   "metadata": {},
   "outputs": [],
   "source": [
    "#Vectorize reviews\n",
    "count_vectorizer = CountVectorizer(min_df = .01,max_df = .99, tokenizer = WordPunctTokenizer().tokenize)\n",
    "reviews_grouped_by_business = reviews_grouped_by_business.fillna('')\n",
    "vectorized_reviews = count_vectorizer.fit_transform(reviews_grouped_by_business['reviews'])"
   ]
  },
  {
   "cell_type": "code",
   "execution_count": 80,
   "metadata": {},
   "outputs": [
    {
     "data": {
      "text/plain": [
       "(1660, 9950)"
      ]
     },
     "execution_count": 80,
     "metadata": {},
     "output_type": "execute_result"
    }
   ],
   "source": [
    "vectorized_reviews.shape"
   ]
  },
  {
   "cell_type": "markdown",
   "metadata": {},
   "source": [
    "# 3. Randomly select \"seed\" restaurant"
   ]
  },
  {
   "cell_type": "code",
   "execution_count": 81,
   "metadata": {},
   "outputs": [
    {
     "name": "stdout",
     "output_type": "stream",
     "text": [
      "business_id                                HCHHrf21UAgbxAi8T4Q4Iw\n",
      "name                                         White Duck Taco Shop\n",
      "address                                             423 6th Ave S\n",
      "city                                                    Nashville\n",
      "state                                                          TN\n",
      "postal_code                                                 28801\n",
      "latitude                                                  36.1549\n",
      "longitude                                                -86.7773\n",
      "stars                                                           4\n",
      "review_count                                                   42\n",
      "is_open                                                         1\n",
      "attributes      {'BusinessParking': '{'garage': False, 'street...\n",
      "categories            American (New), Tacos, Mexican, Restaurants\n",
      "hours           {'Monday': '11:0-22:0', 'Tuesday': '11:0-22:0'...\n",
      "Name: 16763, dtype: object\n",
      "American (New), Tacos, Mexican, Restaurants\n"
     ]
    }
   ],
   "source": [
    "#Randomly select a restaurant\n",
    "print(df_City_Restaurants.iloc[200,:])\n",
    "print(df_City_Restaurants.iloc[200,12])"
   ]
  },
  {
   "cell_type": "code",
   "execution_count": 82,
   "metadata": {},
   "outputs": [
    {
     "data": {
      "text/plain": [
       "41675    place recommended couple coworkers  disappoint...\n",
       "42980    delicious tacos  many options  loved options v...\n",
       "42989    food better service  staff hanging around chat...\n",
       "43147    drinking yee - haw brewery  boyfriend become f...\n",
       "43465    recommended friends come day before  said pork...\n",
       "Name: text, dtype: object"
      ]
     },
     "execution_count": 82,
     "metadata": {},
     "output_type": "execute_result"
    }
   ],
   "source": [
    "#Find all the seed restaurant's reviews by copy/paste business ID to this command\n",
    "selected_reviews = reviews_City_Restaurants_reduced[reviews_City_Restaurants_reduced['business_id']=='HCHHrf21UAgbxAi8T4Q4Iw']\n",
    "selected_reviews = selected_reviews['text']\n",
    "selected_reviews.head()"
   ]
  },
  {
   "cell_type": "code",
   "execution_count": 83,
   "metadata": {},
   "outputs": [
    {
     "name": "stdout",
     "output_type": "stream",
     "text": [
      "There are  45 reviews for the selected restaurant\n"
     ]
    }
   ],
   "source": [
    "#Find how many reviews the seed restaurant has\n",
    "print('There are  ' + str(selected_reviews.shape[0]) + ' reviews for the selected restaurant')"
   ]
  },
  {
   "cell_type": "markdown",
   "metadata": {},
   "source": [
    "# 4. Calculate recommendations"
   ]
  },
  {
   "cell_type": "code",
   "execution_count": 84,
   "metadata": {},
   "outputs": [
    {
     "data": {
      "text/plain": [
       "array([[0.3687381 , 0.45115079, 0.37640843, ..., 0.79441875, 0.55544887,\n",
       "        0.52488369]])"
      ]
     },
     "execution_count": 84,
     "metadata": {},
     "output_type": "execute_result"
    }
   ],
   "source": [
    "from scipy.spatial.distance import cdist\n",
    "# find most similar reviews\n",
    "distance = cdist(count_vectorizer.transform(selected_reviews).todense().mean(axis=0), \n",
    "              vectorized_reviews.todense(),metric='cosine')\n",
    "\n",
    "distance"
   ]
  },
  {
   "cell_type": "code",
   "execution_count": 89,
   "metadata": {},
   "outputs": [
    {
     "data": {
      "text/plain": [
       "1660"
      ]
     },
     "execution_count": 89,
     "metadata": {},
     "output_type": "execute_result"
    }
   ],
   "source": [
    "distance.size"
   ]
  },
  {
   "cell_type": "code",
   "execution_count": 85,
   "metadata": {},
   "outputs": [
    {
     "data": {
      "text/plain": [
       "array([ 306,  610, 1176, 1180,  962,  851, 1162, 1203,    7, 1547],\n",
       "      dtype=int64)"
      ]
     },
     "execution_count": 85,
     "metadata": {},
     "output_type": "execute_result"
    }
   ],
   "source": [
    "most_similar = distance.argsort().ravel()[:10]\n",
    "most_similar"
   ]
  },
  {
   "cell_type": "code",
   "execution_count": 95,
   "metadata": {},
   "outputs": [
    {
     "data": {
      "text/html": [
       "<div>\n",
       "<style scoped>\n",
       "    .dataframe tbody tr th:only-of-type {\n",
       "        vertical-align: middle;\n",
       "    }\n",
       "\n",
       "    .dataframe tbody tr th {\n",
       "        vertical-align: top;\n",
       "    }\n",
       "\n",
       "    .dataframe thead th {\n",
       "        text-align: right;\n",
       "    }\n",
       "</style>\n",
       "<table border=\"1\" class=\"dataframe\">\n",
       "  <thead>\n",
       "    <tr style=\"text-align: right;\">\n",
       "      <th></th>\n",
       "      <th>business_id</th>\n",
       "      <th>categories</th>\n",
       "      <th>name</th>\n",
       "      <th>stars</th>\n",
       "      <th>review_count</th>\n",
       "    </tr>\n",
       "  </thead>\n",
       "  <tbody>\n",
       "    <tr>\n",
       "      <th>13898</th>\n",
       "      <td>C1D2o1VV2TDjpkG3BsdseA</td>\n",
       "      <td>Tex-Mex, Event Planning &amp; Services, Caterers, ...</td>\n",
       "      <td>San Antonio Taco Co</td>\n",
       "      <td>3.5</td>\n",
       "      <td>386</td>\n",
       "    </tr>\n",
       "    <tr>\n",
       "      <th>16763</th>\n",
       "      <td>HCHHrf21UAgbxAi8T4Q4Iw</td>\n",
       "      <td>American (New), Tacos, Mexican, Restaurants</td>\n",
       "      <td>White Duck Taco Shop</td>\n",
       "      <td>4.0</td>\n",
       "      <td>42</td>\n",
       "    </tr>\n",
       "    <tr>\n",
       "      <th>54127</th>\n",
       "      <td>iAID8DtHvyE5W4OyOvCczQ</td>\n",
       "      <td>Mexican, Tacos, Restaurants, Cocktail Bars, Ba...</td>\n",
       "      <td>Pancho &amp; Lefty's Cantina - Sylvan Park</td>\n",
       "      <td>3.5</td>\n",
       "      <td>105</td>\n",
       "    </tr>\n",
       "    <tr>\n",
       "      <th>80918</th>\n",
       "      <td>g-YOzV9YIPmo6vZBHQuuUg</td>\n",
       "      <td>Restaurants, Sandwiches, Bars, Nightlife, Tex-...</td>\n",
       "      <td>Bakersfield</td>\n",
       "      <td>4.5</td>\n",
       "      <td>1215</td>\n",
       "    </tr>\n",
       "    <tr>\n",
       "      <th>86175</th>\n",
       "      <td>AKAYI-HTy78i4Tr_n8UEYw</td>\n",
       "      <td>Tacos, Tex-Mex, Mexican, Restaurants</td>\n",
       "      <td>Redheaded Stranger</td>\n",
       "      <td>4.0</td>\n",
       "      <td>214</td>\n",
       "    </tr>\n",
       "    <tr>\n",
       "      <th>91227</th>\n",
       "      <td>2hQuKePRM5zmEFbhEFeCpQ</td>\n",
       "      <td>Nightlife, Restaurants, Tacos, Mexican, Tex-Me...</td>\n",
       "      <td>Condado Tacos</td>\n",
       "      <td>4.5</td>\n",
       "      <td>69</td>\n",
       "    </tr>\n",
       "    <tr>\n",
       "      <th>107622</th>\n",
       "      <td>4szMVHmGXodrVGw4Zhev9g</td>\n",
       "      <td>Mexican, Nightlife, Bars, Restaurants</td>\n",
       "      <td>Bartaco</td>\n",
       "      <td>4.5</td>\n",
       "      <td>1447</td>\n",
       "    </tr>\n",
       "    <tr>\n",
       "      <th>114374</th>\n",
       "      <td>9w-LZEkP1hf363G-OYvKDg</td>\n",
       "      <td>Tacos, Mexican, Restaurants</td>\n",
       "      <td>Mas Tacos Por Favor</td>\n",
       "      <td>4.5</td>\n",
       "      <td>1503</td>\n",
       "    </tr>\n",
       "    <tr>\n",
       "      <th>118198</th>\n",
       "      <td>UV3QgpYgHO0GGTYPPr4v3g</td>\n",
       "      <td>Restaurants, Mexican, Tex-Mex</td>\n",
       "      <td>Taqueria Del Sol</td>\n",
       "      <td>4.0</td>\n",
       "      <td>353</td>\n",
       "    </tr>\n",
       "  </tbody>\n",
       "</table>\n",
       "</div>"
      ],
      "text/plain": [
       "                   business_id  \\\n",
       "13898   C1D2o1VV2TDjpkG3BsdseA   \n",
       "16763   HCHHrf21UAgbxAi8T4Q4Iw   \n",
       "54127   iAID8DtHvyE5W4OyOvCczQ   \n",
       "80918   g-YOzV9YIPmo6vZBHQuuUg   \n",
       "86175   AKAYI-HTy78i4Tr_n8UEYw   \n",
       "91227   2hQuKePRM5zmEFbhEFeCpQ   \n",
       "107622  4szMVHmGXodrVGw4Zhev9g   \n",
       "114374  9w-LZEkP1hf363G-OYvKDg   \n",
       "118198  UV3QgpYgHO0GGTYPPr4v3g   \n",
       "\n",
       "                                               categories  \\\n",
       "13898   Tex-Mex, Event Planning & Services, Caterers, ...   \n",
       "16763         American (New), Tacos, Mexican, Restaurants   \n",
       "54127   Mexican, Tacos, Restaurants, Cocktail Bars, Ba...   \n",
       "80918   Restaurants, Sandwiches, Bars, Nightlife, Tex-...   \n",
       "86175                Tacos, Tex-Mex, Mexican, Restaurants   \n",
       "91227   Nightlife, Restaurants, Tacos, Mexican, Tex-Me...   \n",
       "107622              Mexican, Nightlife, Bars, Restaurants   \n",
       "114374                        Tacos, Mexican, Restaurants   \n",
       "118198                      Restaurants, Mexican, Tex-Mex   \n",
       "\n",
       "                                          name  stars  review_count  \n",
       "13898                      San Antonio Taco Co    3.5           386  \n",
       "16763                     White Duck Taco Shop    4.0            42  \n",
       "54127   Pancho & Lefty's Cantina - Sylvan Park    3.5           105  \n",
       "80918                              Bakersfield    4.5          1215  \n",
       "86175                       Redheaded Stranger    4.0           214  \n",
       "91227                            Condado Tacos    4.5            69  \n",
       "107622                                 Bartaco    4.5          1447  \n",
       "114374                     Mas Tacos Por Favor    4.5          1503  \n",
       "118198                        Taqueria Del Sol    4.0           353  "
      ]
     },
     "execution_count": 95,
     "metadata": {},
     "output_type": "execute_result"
    }
   ],
   "source": [
    "df_most_similar = df_City_Restaurants.loc[df_City_Restaurants['business_id'].isin(reviews_grouped_by_business['business_id'].iloc[most_similar]), ['business_id', 'categories', 'name', 'stars','review_count']]\n",
    "df_most_similar"
   ]
  },
  {
   "cell_type": "markdown",
   "metadata": {},
   "source": [
    "# 5. Initial observations\n",
    "Seed restaurant category is: American (New), Tacos, Mexican, Restaurants\n",
    "Recommended restaurants are all within the seed restaurant's categories, so they are adequately similar"
   ]
  }
 ],
 "metadata": {
  "kernelspec": {
   "display_name": "Python 3",
   "language": "python",
   "name": "python3"
  },
  "language_info": {
   "codemirror_mode": {
    "name": "ipython",
    "version": 3
   },
   "file_extension": ".py",
   "mimetype": "text/x-python",
   "name": "python",
   "nbconvert_exporter": "python",
   "pygments_lexer": "ipython3",
   "version": "3.7.3"
  }
 },
 "nbformat": 4,
 "nbformat_minor": 2
}
